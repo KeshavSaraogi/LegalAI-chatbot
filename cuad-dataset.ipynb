{
 "cells": [
  {
   "cell_type": "code",
   "execution_count": null,
   "metadata": {},
   "outputs": [],
   "source": [
    "import torch\n",
    "from datasets import load_dataset\n",
    "from transformers import BertTokenizer"
   ]
  },
  {
   "cell_type": "code",
   "execution_count": null,
   "metadata": {},
   "outputs": [],
   "source": [
    "cuad = load_dataset(\"json\", data_files={\"train\": \"/Users/keshavsaraogi/data/cuad/CUAD_v1.json\"})"
   ]
  },
  {
   "cell_type": "code",
   "execution_count": null,
   "metadata": {},
   "outputs": [],
   "source": [
    "tokenizer = BertTokenizer.from_pretrained(\"nlpaueb/legal-bert-base-uncased\")"
   ]
  },
  {
   "cell_type": "code",
   "execution_count": null,
   "metadata": {},
   "outputs": [],
   "source": [
    "# Function to preprocess data\n",
    "def preprocess_data(example):\n",
    "    if \"context\" not in example or \"question\" not in example or \"answers\" not in example:\n",
    "        print(f\"Missing keys in example: {example.keys()}\")\n",
    "        return {}\n",
    "\n",
    "    inputs = tokenizer(\n",
    "        example[\"context\"], example[\"question\"],\n",
    "        truncation=True, padding=\"max_length\", max_length=512, return_tensors=\"pt\"\n",
    "    )\n",
    "\n",
    "    labels = tokenizer(\n",
    "        example[\"answers\"][\"text\"][0] if example[\"answers\"][\"text\"] else \"\", \n",
    "        truncation=True, padding=\"max_length\", max_length=128, return_tensors=\"pt\"\n",
    "    )\n",
    "\n",
    "    return {\n",
    "        \"input_ids\": inputs[\"input_ids\"].squeeze(),\n",
    "        \"attention_mask\": inputs[\"attention_mask\"].squeeze(),\n",
    "        \"labels\": labels[\"input_ids\"].squeeze()\n",
    "    }\n"
   ]
  },
  {
   "cell_type": "code",
   "execution_count": null,
   "metadata": {},
   "outputs": [],
   "source": [
    "# Apply preprocessing\n",
    "train_dataset = cuad[\"train\"].map(preprocess_data)"
   ]
  },
  {
   "cell_type": "code",
   "execution_count": null,
   "metadata": {},
   "outputs": [],
   "source": [
    "# Save processed dataset for training\n",
    "torch.save(train_dataset, \"processed_cuad.pt\")\n",
    "\n",
    "print(\"Dataset processing complete! Ready for fine-tuning LegalBERT.\")"
   ]
  }
 ],
 "metadata": {
  "kernelspec": {
   "display_name": "base",
   "language": "python",
   "name": "python3"
  },
  "language_info": {
   "codemirror_mode": {
    "name": "ipython",
    "version": 3
   },
   "file_extension": ".py",
   "mimetype": "text/x-python",
   "name": "python",
   "nbconvert_exporter": "python",
   "pygments_lexer": "ipython3",
   "version": "3.11.8"
  }
 },
 "nbformat": 4,
 "nbformat_minor": 2
}
